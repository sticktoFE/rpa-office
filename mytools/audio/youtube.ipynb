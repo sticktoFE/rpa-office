{
 "cells": [
  {
   "cell_type": "code",
   "execution_count": 2,
   "metadata": {},
   "outputs": [],
   "source": [
    "import pyaudio\n",
    "import wave\n",
    "from datetime import datetime\n",
    "from pydub import AudioSegment\n",
    "from pathlib import Path\n",
    "from selenium.webdriver.common.by import By\n",
    "from selenium.common.exceptions import NoSuchElementException\n",
    "from selenium.webdriver.common.action_chains import ActionChains\n",
    "import pyaudio\n",
    "import wave\n",
    "import time\n",
    "import sys\n",
    "sys.path.insert(0, str(Path.cwd().parent.parent))\n",
    "import importlib\n",
    "# 解决修改自定义包，无法生效的问题\n",
    "from myutils import web_driver_manager"
   ]
  },
  {
   "cell_type": "code",
   "execution_count": 3,
   "metadata": {},
   "outputs": [
    {
     "name": "stdout",
     "output_type": "stream",
     "text": [
      "8:31\n",
      "9\n",
      "* recording\n",
      "* done recording\n"
     ]
    }
   ],
   "source": [
    "# 1、录音网上视频的声音\n",
    "VIDEO_URL = 'https://www.youtube.com/watch?v=eyJ5kZeSF8k'\n",
    "web_driver = web_driver_manager.get_driver_ChromeDriver(SetHeadless=False)\n",
    "web_driver.implicitly_wait(30)\n",
    "# 最大化窗口\n",
    "web_driver.maximize_window()\n",
    "# 打开视频\n",
    "web_driver.get(VIDEO_URL)\n",
    "vedio_area = web_driver.find_element(by=By.XPATH, value='//div[@id=\"player\"]')\n",
    "vedio_area.click()\n",
    "hover = ActionChains(web_driver).move_to_element(\n",
    "                vedio_area\n",
    "            )\n",
    "hover.perform()  # 悬停\n",
    "duration_ele = web_driver.find_element(by=By.XPATH, value='//div[@class=\"ytp-time-display notranslate\"]//span[@class=\"ytp-time-duration\"]')\n",
    "duration = duration_ele.text\n",
    "print(duration)\n",
    "# 等待视频开始播放\n",
    "time.sleep(5)\n",
    "duration = int(duration.split(\":\")[0])+1\n",
    "print(duration)\n",
    "# 初始化录音设备\n",
    "p = pyaudio.PyAudio()\n",
    "# 打开音频流\n",
    "# 设置参数\n",
    "CHUNK = 1024\n",
    "FORMAT = pyaudio.paInt24\n",
    "CHANNELS = 2\n",
    "RATE = 48000\n",
    "WAVE_OUTPUT_FILENAME = \"output\"\n",
    "stream = p.open(format=FORMAT,\n",
    "                channels=CHANNELS,\n",
    "                rate=RATE,\n",
    "                input=True,\n",
    "                frames_per_buffer=CHUNK)\n",
    "print(\"* recording\")\n",
    "# 开始录音\n",
    "frames = []\n",
    "for i in range(0, int(RATE / CHUNK * duration*60)):\n",
    "    data = stream.read(CHUNK)\n",
    "    frames.append(data)\n",
    "print(\"* done recording\")\n",
    "# 停止录音\n",
    "stream.stop_stream()\n",
    "stream.close()\n",
    "p.terminate()\n",
    "web_driver.quit()\n",
    "# 将音频数据保存为WAV文件\n",
    "now = datetime.now().strftime(\"%Y-%m-%d_%H-%M-%S\")\n",
    "wav_file_name = f'{WAVE_OUTPUT_FILENAME}_{now}.wav'\n",
    "wf = wave.open(wav_file_name, 'wb')\n",
    "wf.setnchannels(CHANNELS)\n",
    "wf.setsampwidth(p.get_sample_size(FORMAT))\n",
    "wf.setframerate(RATE)\n",
    "wf.writeframes(b''.join(frames))\n",
    "wf.close()"
   ]
  },
  {
   "cell_type": "code",
   "execution_count": null,
   "metadata": {},
   "outputs": [],
   "source": []
  }
 ],
 "metadata": {
  "kernelspec": {
   "display_name": "rpa",
   "language": "python",
   "name": "python3"
  },
  "language_info": {
   "codemirror_mode": {
    "name": "ipython",
    "version": 3
   },
   "file_extension": ".py",
   "mimetype": "text/x-python",
   "name": "python",
   "nbconvert_exporter": "python",
   "pygments_lexer": "ipython3",
   "version": "3.10.9"
  },
  "orig_nbformat": 4
 },
 "nbformat": 4,
 "nbformat_minor": 2
}
