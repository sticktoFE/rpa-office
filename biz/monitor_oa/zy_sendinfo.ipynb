{
 "cells": [
  {
   "cell_type": "code",
   "execution_count": 3,
   "metadata": {},
   "outputs": [],
   "source": [
    "import os\n",
    "import pyautogui as pag\n",
    "__sizex__, __sizey__ = pag.size() #获得屏幕尺寸\n",
    "\n",
    "def cad_turn(cad_file, outd):\n",
    "    '''\n",
    "    cad_file  :  要操作的CAD文件\n",
    "    outd      :  文件输出路径\n",
    "    '''\n",
    "    # 打开图标，图标事先截图保存\n",
    "    c = pag.locateCenterOnScreen(__icon_open__, region=(0,0,__sizex__/10,__sizey__/20) ) \n",
    "    pag.moveTo(*c, duration=0.05)\n",
    "    pag.click( button=\"left\") # 点击打开按钮\n",
    "\n",
    "    pag.moveRel(__sizex__/4, __sizey__/4) # 确保文件打开窗口获得焦点    \n",
    "    pag.typewrite(message=cad_file,interval=0.1) # 输入文件路径\n",
    "    pag.press('enter')\n",
    "    # 旋转视图图标\n",
    "    c = pag.locateCenterOnScreen(__icon_view__, region=(__sizex__/4, 0,__sizex__/2, __sizey__/10) )  \n",
    "    pag.moveTo(*c, duration=2)\n",
    "    pag.click(clicks=7, interval=1, button=\"left\") # 点击旋转视角按钮\n",
    "    # 另存为图标\n",
    "    c = pag.locateCenterOnScreen(__icon_saveas__, region=(0, 0, __sizex__/10, __sizey__/20) ) \n",
    "    pag.moveTo(*c, duration=0.2)\n",
    "    pag.click( button=\"left\") # 点击另存为按钮\n",
    "\n",
    "    pag.moveRel(__sizex__/4, __sizey__/4) # 确保文件打开窗口获得焦点\n",
    "    pag.typewrite(message=os.path.join(outd, fbase+'-se'), interval=0.1) # 输入保存路径\n",
    "    pag.press('enter')\n",
    "\n",
    "    # 关闭所有可能存在的窗口，避免占用太多内存\n",
    "    while( True ): \n",
    "        try :\n",
    "            pag.moveTo(__sizex__/2, __sizey__/2, duration=0.3) # 延时\n",
    "            c = pag.locateCenterOnScreen(__icon_close__, region=(__sizex__/5, 0, __sizex__*3/5, __sizey__/20) )\n",
    "            pag.moveTo(*c, duration=0.1) # 移到“x”按钮\n",
    "            pag.click( button=\"left\") # 点击“x”按钮\n",
    "        except TypeError:\n",
    "            break"
   ]
  },
  {
   "cell_type": "code",
   "execution_count": null,
   "metadata": {},
   "outputs": [],
   "source": [
    "p = r'x/y/z/CAD文件所在路径'\n",
    "cad_src = glob_file_list( p, r\"*.DXF\") # 匹配出要操作的文件\n",
    "total = len(cad_src)\n",
    "if(total == 0):\n",
    "    print('无文件需处理，退出...')\n",
    "try:\n",
    "    for idx,x in enumerate(cad_src, start=1):\n",
    "        print(\"[{}/{}] 处理{}...\".format(idx, total, x))\n",
    "        cad_turn(x, \"out\")\n",
    "except Exception as e:\n",
    "    print(\"错误:{}\".format(e))"
   ]
  }
 ],
 "metadata": {
  "kernelspec": {
   "display_name": "rpa",
   "language": "python",
   "name": "python3"
  },
  "language_info": {
   "codemirror_mode": {
    "name": "ipython",
    "version": 3
   },
   "file_extension": ".py",
   "mimetype": "text/x-python",
   "name": "python",
   "nbconvert_exporter": "python",
   "pygments_lexer": "ipython3",
   "version": "3.10.9"
  },
  "orig_nbformat": 4,
  "vscode": {
   "interpreter": {
    "hash": "5438ef269e77ee9343f74d3bd9afce8eb8771bef7c9d7b1eb42d34ab16386758"
   }
  }
 },
 "nbformat": 4,
 "nbformat_minor": 2
}
