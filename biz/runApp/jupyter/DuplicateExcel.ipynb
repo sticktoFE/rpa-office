{
 "cells": [
  {
   "cell_type": "code",
   "execution_count": 1,
   "metadata": {
    "collapsed": true,
    "jupyter": {
     "outputs_hidden": true
    }
   },
   "outputs": [
    {
     "name": "stdout",
     "output_type": "stream",
     "text": [
      "     产业单位      Unnamed: 1                           Unnamed: 2  \\\n",
      "0      地域            单位名称                                   标题   \n",
      "1      江苏  南京南瑞继保工程技术有限公司          安徽电力通报51企不良行为 12名企14起南瑞继保首现   \n",
      "2      江苏  南京南瑞继保工程技术有限公司  国网安徽电力通报51企不良行为 12名企14起南瑞继保首现(附全名单）   \n",
      "3      江苏  南京南瑞继保工程技术有限公司         安徽电力通报51企不良行为  12名企14起南瑞继保首现   \n",
      "4      江苏  南京南瑞继保工程技术有限公司          安徽电力通报51企不良行为 12名企14起南瑞继保首现   \n",
      "...   ...             ...                                  ...   \n",
      "1070   湖南        国网物资有限公司       水电八局中标公示期间遭实名举报被指暗箱操作 官方：正调查处理   \n",
      "1071   湖南        国网物资有限公司       水电八局中标公示期间遭实名举报被指暗箱操作 官方：正调查处理   \n",
      "1072   湖南        国网物资有限公司                水电八局中标公示期间遭实名举报被指暗箱操作   \n",
      "1073   湖南        国网物资有限公司       水电八局中标公示期间遭实名举报被指暗箱操作 官方：正调查处理   \n",
      "1074   湖南        国网物资有限公司       水电八局中标公示期间遭实名举报被指暗箱操作 官方：正调查处理   \n",
      "\n",
      "                                             Unnamed: 3 Unnamed: 4  \\\n",
      "0                                                    事项       信息来源   \n",
      "1     一二次融合成套柱上断路器在安徽公司2020年10月发现短路电流关合和开断试验不合格，属较严重...       今日头条   \n",
      "2                                                   NaN         微信   \n",
      "3                                                   NaN        搜狐号   \n",
      "4                                                   NaN        懂车帝   \n",
      "...                                                 ...        ...   \n",
      "1070                                                NaN        百家号   \n",
      "1071                                                NaN       今日头条   \n",
      "1072                                                NaN         微信   \n",
      "1073                                                NaN        二三里   \n",
      "1074                                                NaN       一点资讯   \n",
      "\n",
      "                                             Unnamed: 5        Unnamed: 6  \\\n",
      "0                                                  信息链接            时间（立案）   \n",
      "1         https://www.toutiao.com/i6924317725250699779/  2021-02-01 23:42   \n",
      "2     http://mp.weixin.qq.com/s?__biz=Mzg5NzE3NzQwMQ...  2021-02-02 10:05   \n",
      "3                    https://3g.k.sohu.com/t/n513790454  2021-02-02 01:11   \n",
      "4     https://www.dongchedi.com/article/692431772525...  2021-02-01 23:42   \n",
      "...                                                 ...               ...   \n",
      "1070  https://mbd.baidu.com/newspage/data/landingsha...  2021-01-07 21:35   \n",
      "1071      https://www.toutiao.com/i6914928349710123527/  2021-01-07 16:13   \n",
      "1072  http://mp.weixin.qq.com/s?__biz=MzU5MTM2ODAyNg...  2021-01-07 12:55   \n",
      "1073  https://www.ersanli.cn/article.html?newsId=100...  2021-01-07 12:35   \n",
      "1074        http://www.yidianzixun.com/article/0Sksqwt3  2021-01-07 12:11   \n",
      "\n",
      "     Unnamed: 7 Unnamed: 8  Unnamed: 9  ...  Unnamed: 16371  Unnamed: 16372  \\\n",
      "0           立案号         备注         NaN  ...             NaN             NaN   \n",
      "1           NaN        NaN         NaN  ...             NaN             NaN   \n",
      "2           NaN        NaN         NaN  ...             NaN             NaN   \n",
      "3           NaN        NaN         NaN  ...             NaN             NaN   \n",
      "4           NaN        NaN         NaN  ...             NaN             NaN   \n",
      "...         ...        ...         ...  ...             ...             ...   \n",
      "1070        NaN        NaN         NaN  ...             NaN             NaN   \n",
      "1071        NaN        NaN         NaN  ...             NaN             NaN   \n",
      "1072        NaN        NaN         NaN  ...             NaN             NaN   \n",
      "1073        NaN        NaN         NaN  ...             NaN             NaN   \n",
      "1074        NaN        NaN         NaN  ...             NaN             NaN   \n",
      "\n",
      "      Unnamed: 16373  Unnamed: 16374  Unnamed: 16375  Unnamed: 16376  \\\n",
      "0                NaN             NaN             NaN             NaN   \n",
      "1                NaN             NaN             NaN             NaN   \n",
      "2                NaN             NaN             NaN             NaN   \n",
      "3                NaN             NaN             NaN             NaN   \n",
      "4                NaN             NaN             NaN             NaN   \n",
      "...              ...             ...             ...             ...   \n",
      "1070             NaN             NaN             NaN             NaN   \n",
      "1071             NaN             NaN             NaN             NaN   \n",
      "1072             NaN             NaN             NaN             NaN   \n",
      "1073             NaN             NaN             NaN             NaN   \n",
      "1074             NaN             NaN             NaN             NaN   \n",
      "\n",
      "      Unnamed: 16377  Unnamed: 16378  Unnamed: 16379  Unnamed: 16380  \n",
      "0                NaN             NaN             NaN             NaN  \n",
      "1                NaN             NaN             NaN             NaN  \n",
      "2                NaN             NaN             NaN             NaN  \n",
      "3                NaN             NaN             NaN             NaN  \n",
      "4                NaN             NaN             NaN             NaN  \n",
      "...              ...             ...             ...             ...  \n",
      "1070             NaN             NaN             NaN             NaN  \n",
      "1071             NaN             NaN             NaN             NaN  \n",
      "1072             NaN             NaN             NaN             NaN  \n",
      "1073             NaN             NaN             NaN             NaN  \n",
      "1074             NaN             NaN             NaN             NaN  \n",
      "\n",
      "[1075 rows x 16381 columns]\n"
     ]
    }
   ],
   "source": [
    "# 导入pandas包并重命名为pd\n",
    "import pandas as pd\n",
    "# 读取Excel中Sheet1中的数reginDataata = pd.DataFrame(pd.read_excel('新闻媒体-总.xlsx', '产业'))\n",
    "# 读取Excel中Sheet1中的数据\n",
    "data = pd.DataFrame(pd.read_excel('新闻媒体-总.xlsx', '产业'))\n",
    "# 查看读取数据内容\n",
    "print(data)"
   ]
  },
  {
   "cell_type": "code",
   "execution_count": null,
   "metadata": {},
   "outputs": [],
   "source": [
    "# 查看是否有重复行\r\n",
    "re_row = data.duplicated()\r\n",
    "print(re_row)\r\n",
    "\r\n"
   ]
  },
  {
   "cell_type": "code",
   "execution_count": null,
   "metadata": {},
   "outputs": [],
   "source": [
    "# 查看去除重复行的数据\r\n",
    "no_re_row = data.drop_duplicates()\r\n",
    "print(no_re_row)\r\n",
    "\r\n"
   ]
  },
  {
   "cell_type": "code",
   "execution_count": null,
   "metadata": {},
   "outputs": [],
   "source": [
    "# 查看基于相应列去除重复行的数据\r\n",
    "wp = data.drop_duplicates([地域区','单位名称','新闻标题','事项','信息来源','信息链接','时间'])\r\n",
    "print(wp)\r\n",
    "\r\n"
   ]
  },
  {
   "cell_type": "code",
   "execution_count": null,
   "metadata": {},
   "outputs": [],
   "source": [
    "# 将去除重复行的数据输出到excel表中\r\n",
    "no_re_row.to_excel(\"新闻媒体-产业-过滤重复行.xlsx\")"
   ]
  }
 ],
 "metadata": {
  "kernelspec": {
   "display_name": "Python 3",
   "language": "python",
   "name": "python3"
  },
  "language_info": {
   "codemirror_mode": {
    "name": "ipython",
    "version": 3
   },
   "file_extension": ".py",
   "mimetype": "text/x-python",
   "name": "python",
   "nbconvert_exporter": "python",
   "pygments_lexer": "ipython3",
   "version": "3.8.0"
  }
 },
 "nbformat": 4,
 "nbformat_minor": 4
}
