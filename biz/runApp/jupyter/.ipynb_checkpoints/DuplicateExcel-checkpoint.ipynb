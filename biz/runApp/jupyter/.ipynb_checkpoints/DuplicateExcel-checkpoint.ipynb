{
 "cells": [
  {
   "cell_type": "code",
   "execution_count": 6,
   "metadata": {},
   "outputs": [
    {
     "ename": "SyntaxError",
     "evalue": "unmatched ')' (<ipython-input-6-8627af11ef19>, line 1)",
     "output_type": "error",
     "traceback": [
      "\u001b[1;36m  File \u001b[1;32m\"<ipython-input-6-8627af11ef19>\"\u001b[1;36m, line \u001b[1;32m1\u001b[0m\n\u001b[1;33m    Data)\u001b[0m\n\u001b[1;37m        ^\u001b[0m\n\u001b[1;31mSyntaxError\u001b[0m\u001b[1;31m:\u001b[0m unmatched ')'\n"
     ]
    }
   ],
   "source": [
    "# 导入pandas包并重命名为pd\n",
    "import pandas as pd\n",
    "# 读取Excel中Sheet1中的数reginDataata = pd.DataFrame(pd.read_excel('新闻媒体-总.xlsx', '产业'))\n",
    "# 读取Excel中Sheet1中的数据\n",
    "data = pd.DataFrame(pd.read_excel('新闻媒体-总.xlsx', '产业'))\n",
    "# 查看读取数据内容\n",
    "print(data)"
   ]
  },
  {
   "cell_type": "code",
   "execution_count": null,
   "metadata": {},
   "outputs": [],
   "source": [
    "# 查看是否有重复行\r\n",
    "re_row = data.duplicated()\r\n",
    "print(re_row)\r\n",
    "\r\n"
   ]
  },
  {
   "cell_type": "code",
   "execution_count": null,
   "metadata": {},
   "outputs": [],
   "source": [
    "# 查看去除重复行的数据\r\n",
    "no_re_row = data.drop_duplicates()\r\n",
    "print(no_re_row)\r\n",
    "\r\n"
   ]
  },
  {
   "cell_type": "code",
   "execution_count": null,
   "metadata": {},
   "outputs": [],
   "source": [
    "# 查看基于相应列去除重复行的数据\r\n",
    "wp = data.drop_duplicates(['地区','单位名称','新闻标题','事项','信息来源','信息链接','时间'])\r\n",
    "print(wp)\r\n",
    "\r\n"
   ]
  },
  {
   "cell_type": "code",
   "execution_count": null,
   "metadata": {},
   "outputs": [],
   "source": [
    "# 将去除重复行的数据输出到excel表中\r\n",
    "no_re_row.to_excel(\"新闻媒体-产业-过滤重复行.xlsx\")"
   ]
  }
 ],
 "metadata": {
  "kernelspec": {
   "display_name": "Python 3",
   "language": "python",
   "name": "python3"
  },
  "language_info": {
   "codemirror_mode": {
    "name": "ipython",
    "version": 3
   },
   "file_extension": ".py",
   "mimetype": "text/x-python",
   "name": "python",
   "nbconvert_exporter": "python",
   "pygments_lexer": "ipython3",
   "version": "3.8.0"
  }
 },
 "nbformat": 4,
 "nbformat_minor": 4
}
