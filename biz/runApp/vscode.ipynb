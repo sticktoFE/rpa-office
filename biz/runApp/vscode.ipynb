{
 "cells": [
  {
   "cell_type": "code",
   "execution_count": 1,
   "metadata": {},
   "outputs": [],
   "source": [
    "import os,glob"
   ]
  },
  {
   "cell_type": "code",
   "execution_count": 2,
   "metadata": {},
   "outputs": [],
   "source": [
    "'''把时间戳转化为时间: 1479264792 to 2016-11-16 10:53:12'''\n",
    "import time\n",
    "def TimeStampToTime(timestamp):\n",
    "    timeStruct = time.localtime(timestamp)\n",
    "    #return time.strftime('%Y-%m-%d %H:%M:%S',timeStruct)\n",
    "    return time.strftime('%Y-%m-%d',timeStruct)"
   ]
  },
  {
   "cell_type": "code",
   "execution_count": 3,
   "metadata": {},
   "outputs": [
    {
     "name": "stdout",
     "output_type": "stream",
     "text": [
      "E:\\360Downloads\\VSCode-win32-x64-1.55.2.zip\n"
     ]
    }
   ],
   "source": [
    "##1、解压缩zipb\n",
    "import zipfile\n",
    "downPath=glob.glob(\"E:\\\\360Downloads\\\\VSCode*\")#glob支持通配符\n",
    "downPath.sort(key=os.path.getmtime)\n",
    "for i,item in enumerate(downPath):\n",
    "    if i != len(downPath)-1 :\n",
    "        os.remove(item)\n",
    "    else:\n",
    "        downItem=item\n",
    "        downPathDate=TimeStampToTime(os.path.getmtime(item))\n",
    "#print(downItem)"
   ]
  },
  {
   "cell_type": "code",
   "execution_count": 4,
   "metadata": {},
   "outputs": [],
   "source": [
    "from pathlib import Path\n",
    "desiPath =Path(r\"..\\\\..\\\\VSCode\\\\VSCode-win32-x64\")\n",
    "desiPathDate=TimeStampToTime(os.path.getmtime(desiPath))"
   ]
  },
  {
   "cell_type": "code",
   "execution_count": 5,
   "metadata": {},
   "outputs": [],
   "source": [
    "##2、拷贝到目录\n",
    "import shutil\n",
    "if downPathDate != desiPathDate:\n",
    "    #删除目标目录\n",
    "    shutil.rmtree(desiPath)  \n",
    "    os.mkdir(desiPath) \n",
    "    zFile = zipfile.ZipFile(downItem, \"r\")\n",
    "    for fileM in zFile.namelist(): \n",
    "        zFile.extract(fileM, \"..\\\\..\\\\VSCode\\\\VSCode-win32-x64\")\n",
    "    zFile.close()"
   ]
  },
  {
   "cell_type": "code",
   "execution_count": 9,
   "metadata": {},
   "outputs": [],
   "source": [
    "##3、执行程序\n",
    "import subprocess\n",
    "def cmd1(command):\n",
    "    ret = subprocess.run(command,universal_newlines=True,shell=True,stdout=subprocess.PIPE,stderr=subprocess.PIPE,encoding=\"gbk\",timeout=None)\n",
    "    if ret.returncode == 0:\n",
    "        return \"success:\",ret\n",
    "        #print(\"success:\",ret)\n",
    "    else:\n",
    "        return \"error:\",ret\n",
    "        #print(\"error:\",ret)\n",
    "#此方法是异步的\n",
    "def cmd2(command):\n",
    "    subp = subprocess.Popen(command,shell=True,stdout=subprocess.PIPE,stderr=subprocess.PIPE,encoding=\"gbk\")\n",
    "    subp.wait(2)\n",
    "    if subp.poll() == 0:\n",
    "        print(subp.communicate()[1])\n",
    "    else:\n",
    "        print(\"失败\")"
   ]
  },
  {
   "cell_type": "code",
   "execution_count": 10,
   "metadata": {},
   "outputs": [
    {
     "name": "stdout",
     "output_type": "stream",
     "text": [
      "1\n",
      "\n"
     ]
    }
   ],
   "source": [
    "cmd2('start /min ..\\\\..\\\\VSCode\\\\VSCode-win32-x64\\\\Code.exe --extensions-dir \"..\\\\..\\\\VSCode\\\\.vscode\\\\extensions\"')"
   ]
  }
 ],
 "metadata": {
  "kernelspec": {
   "display_name": "Python 3",
   "language": "python",
   "name": "python3"
  },
  "language_info": {
   "codemirror_mode": {
    "name": "ipython",
    "version": 3
   },
   "file_extension": ".py",
   "mimetype": "text/x-python",
   "name": "python",
   "nbconvert_exporter": "python",
   "pygments_lexer": "ipython3",
   "version": "3.8.8"
  }
 },
 "nbformat": 4,
 "nbformat_minor": 4
}
