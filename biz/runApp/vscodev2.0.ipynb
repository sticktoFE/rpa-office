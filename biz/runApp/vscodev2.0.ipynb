{
 "cells": [
  {
   "cell_type": "code",
   "execution_count": 1,
   "metadata": {},
   "outputs": [],
   "source": [
    "import os,glob"
   ]
  },
  {
   "cell_type": "code",
   "execution_count": 2,
   "metadata": {},
   "outputs": [],
   "source": [
    "'''把时间戳转化为时间: 1479264792 to 2016-11-16 10:53:12'''\n",
    "import time\n",
    "def TimeStampToTime(timestamp):\n",
    "    timeStruct = time.localtime(timestamp)\n",
    "    #return time.strftime('%Y-%m-%d %H:%M:%S',timeStruct)\n",
    "    return time.strftime('%Y-%m-%d',timeStruct)"
   ]
  },
  {
   "cell_type": "code",
   "execution_count": 5,
   "metadata": {},
   "outputs": [
    {
     "ename": "FileExistsError",
     "evalue": "[WinError 183] 当文件已存在时，无法创建该文件。: '..\\\\..\\\\..\\\\VSCode\\\\VSCode-win32-x64'",
     "output_type": "error",
     "traceback": [
      "\u001b[1;31m---------------------------------------------------------------------------\u001b[0m",
      "\u001b[1;31mFileExistsError\u001b[0m                           Traceback (most recent call last)",
      "\u001b[1;32m<ipython-input-5-e79dce9abc40>\u001b[0m in \u001b[0;36m<module>\u001b[1;34m\u001b[0m\n\u001b[0;32m     14\u001b[0m         \u001b[1;32mif\u001b[0m \u001b[0mos\u001b[0m\u001b[1;33m.\u001b[0m\u001b[0mpath\u001b[0m\u001b[1;33m.\u001b[0m\u001b[0mexists\u001b[0m\u001b[1;33m(\u001b[0m\u001b[0mdesiPath\u001b[0m\u001b[1;33m)\u001b[0m\u001b[1;33m:\u001b[0m\u001b[1;33m\u001b[0m\u001b[1;33m\u001b[0m\u001b[0m\n\u001b[0;32m     15\u001b[0m             \u001b[0mshutil\u001b[0m\u001b[1;33m.\u001b[0m\u001b[0mrmtree\u001b[0m\u001b[1;33m(\u001b[0m\u001b[0mdesiPath\u001b[0m\u001b[1;33m,\u001b[0m\u001b[0mignore_errors\u001b[0m\u001b[1;33m=\u001b[0m\u001b[1;32mTrue\u001b[0m\u001b[1;33m)\u001b[0m\u001b[1;33m\u001b[0m\u001b[1;33m\u001b[0m\u001b[0m\n\u001b[1;32m---> 16\u001b[1;33m         \u001b[0mos\u001b[0m\u001b[1;33m.\u001b[0m\u001b[0mmkdir\u001b[0m\u001b[1;33m(\u001b[0m\u001b[0mdesiPath\u001b[0m\u001b[1;33m)\u001b[0m\u001b[1;33m\u001b[0m\u001b[1;33m\u001b[0m\u001b[0m\n\u001b[0m\u001b[0;32m     17\u001b[0m         \u001b[1;32mwith\u001b[0m \u001b[0mzipfile\u001b[0m\u001b[1;33m.\u001b[0m\u001b[0mZipFile\u001b[0m\u001b[1;33m(\u001b[0m\u001b[0mitem\u001b[0m\u001b[1;33m,\u001b[0m \u001b[1;34m\"r\"\u001b[0m\u001b[1;33m)\u001b[0m \u001b[1;32mas\u001b[0m \u001b[0mzFile\u001b[0m\u001b[1;33m:\u001b[0m\u001b[1;33m\u001b[0m\u001b[1;33m\u001b[0m\u001b[0m\n\u001b[0;32m     18\u001b[0m             \u001b[0mzFile\u001b[0m\u001b[1;33m.\u001b[0m\u001b[0mextractall\u001b[0m\u001b[1;33m(\u001b[0m\u001b[0mdesiPath\u001b[0m\u001b[1;33m)\u001b[0m\u001b[1;33m\u001b[0m\u001b[1;33m\u001b[0m\u001b[0m\n",
      "\u001b[1;31mFileExistsError\u001b[0m: [WinError 183] 当文件已存在时，无法创建该文件。: '..\\\\..\\\\..\\\\VSCode\\\\VSCode-win32-x64'"
     ]
    }
   ],
   "source": [
    "##1、解压缩zipb\n",
    "import zipfile\n",
    "from pathlib import Path\n",
    "import shutil\n",
    "vsCodeDir=\"..\\\\..\\\\..\\\\VSCode\\\\\"\n",
    "downPath=glob.glob(\"E:\\\\360Downloads\\\\VSCode*\")#glob支持通配符\n",
    "downPath.sort(key=os.path.getmtime)\n",
    "for i,item in enumerate(downPath):\n",
    "    if i != len(downPath)-1 :\n",
    "        os.remove(item)\n",
    "    else:\n",
    "        desiPath =vsCodeDir+\"VSCode-win32-x64\"\n",
    "        #删除目标目录\n",
    "        if os.path.exists(desiPath):\n",
    "            shutil.rmtree(desiPath,ignore_errors=True)  \n",
    "        os.mkdir(desiPath) \n",
    "        with zipfile.ZipFile(item, \"r\") as zFile:\n",
    "            zFile.extractall(desiPath)\n",
    "        os.remove(item)"
   ]
  },
  {
   "cell_type": "code",
   "execution_count": 14,
   "metadata": {},
   "outputs": [],
   "source": [
    "##3、执行程序\n",
    "import subprocess\n",
    "def cmd1(command):\n",
    "    ret = subprocess.run(command,universal_newlines=True,shell=True,stdout=subprocess.PIPE,stderr=subprocess.PIPE,encoding=\"gbk\",timeout=None)\n",
    "    if ret.returncode == 0:\n",
    "        return \"success:\",ret\n",
    "        #print(\"success:\",ret)\n",
    "    else:\n",
    "        return \"error:\",ret\n",
    "        #print(\"error:\",ret)\n",
    "#此方法是异步的\n",
    "def cmd2(command):\n",
    "    subp = subprocess.Popen(command,shell=True,stdout=subprocess.PIPE,stderr=subprocess.PIPE,encoding=\"gbk\")\n",
    "    subp.wait(2)\n",
    "    if subp.poll() == 0:\n",
    "        print(subp.communicate()[1])\n",
    "    else:\n",
    "        print(\"失败\")"
   ]
  },
  {
   "cell_type": "code",
   "execution_count": 15,
   "metadata": {},
   "outputs": [
    {
     "name": "stdout",
     "output_type": "stream",
     "text": [
      "\n"
     ]
    }
   ],
   "source": [
    "###start /b 加上后面的 taskkill /F /IM python.exe可以去掉一个dos窗口\n",
    "cmd2('start /b '+vsCodeDir+'VSCode-win32-x64\\\\Code.exe --extensions-dir \"'+vsCodeDir+'.vscode\\\\extensions\"'+ '&&taskkill /F /IM python.exe')"
   ]
  }
 ],
 "metadata": {
  "kernelspec": {
   "display_name": "Python 3",
   "language": "python",
   "name": "python3"
  },
  "language_info": {
   "codemirror_mode": {
    "name": "ipython",
    "version": 3
   },
   "file_extension": ".py",
   "mimetype": "text/x-python",
   "name": "python",
   "nbconvert_exporter": "python",
   "pygments_lexer": "ipython3",
   "version": "3.8.0"
  }
 },
 "nbformat": 4,
 "nbformat_minor": 4
}
